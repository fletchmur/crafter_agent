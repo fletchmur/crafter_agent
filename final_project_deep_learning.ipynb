{
  "nbformat": 4,
  "nbformat_minor": 0,
  "metadata": {
    "colab": {
      "provenance": [],
      "machine_shape": "hm",
      "gpuType": "T4"
    },
    "kernelspec": {
      "name": "python3",
      "display_name": "Python 3"
    },
    "language_info": {
      "name": "python"
    },
    "accelerator": "GPU"
  },
  "cells": [
    {
      "cell_type": "markdown",
      "source": [
        "##Dependencies"
      ],
      "metadata": {
        "id": "TbpBr4rMfLPm"
      }
    },
    {
      "cell_type": "code",
      "source": [
        "! pip3 install gym\n",
        "! pip3 install torch\n",
        "! pip install pygame\n",
        "! pip install moviepy==1.0.3\n",
        "! pip install numpy==1.23.5\n",
        "! pip install imageio_ffmpeg\n",
        "! pip install pyvirtualdisplay\n",
        "! pip install crafter\n",
        "! apt-get install -y xvfb python3-opengl ffmpeg\n",
        "! unzip dataset.zip"
      ],
      "metadata": {
        "colab": {
          "base_uri": "https://localhost:8080/"
        },
        "id": "7VdhyTS4-l59",
        "outputId": "2aad0e80-69c7-41be-d1e4-598771a524b7"
      },
      "execution_count": 1,
      "outputs": [
        {
          "output_type": "stream",
          "name": "stdout",
          "text": [
            "Requirement already satisfied: gym in /usr/local/lib/python3.11/dist-packages (0.25.2)\n",
            "Requirement already satisfied: numpy>=1.18.0 in /usr/local/lib/python3.11/dist-packages (from gym) (1.23.5)\n",
            "Requirement already satisfied: cloudpickle>=1.2.0 in /usr/local/lib/python3.11/dist-packages (from gym) (3.1.1)\n",
            "Requirement already satisfied: gym-notices>=0.0.4 in /usr/local/lib/python3.11/dist-packages (from gym) (0.0.8)\n",
            "Requirement already satisfied: torch in /usr/local/lib/python3.11/dist-packages (2.6.0+cu124)\n",
            "Requirement already satisfied: filelock in /usr/local/lib/python3.11/dist-packages (from torch) (3.18.0)\n",
            "Requirement already satisfied: typing-extensions>=4.10.0 in /usr/local/lib/python3.11/dist-packages (from torch) (4.13.1)\n",
            "Requirement already satisfied: networkx in /usr/local/lib/python3.11/dist-packages (from torch) (3.4.2)\n",
            "Requirement already satisfied: jinja2 in /usr/local/lib/python3.11/dist-packages (from torch) (3.1.6)\n",
            "Requirement already satisfied: fsspec in /usr/local/lib/python3.11/dist-packages (from torch) (2025.3.2)\n",
            "Requirement already satisfied: nvidia-cuda-nvrtc-cu12==12.4.127 in /usr/local/lib/python3.11/dist-packages (from torch) (12.4.127)\n",
            "Requirement already satisfied: nvidia-cuda-runtime-cu12==12.4.127 in /usr/local/lib/python3.11/dist-packages (from torch) (12.4.127)\n",
            "Requirement already satisfied: nvidia-cuda-cupti-cu12==12.4.127 in /usr/local/lib/python3.11/dist-packages (from torch) (12.4.127)\n",
            "Requirement already satisfied: nvidia-cudnn-cu12==9.1.0.70 in /usr/local/lib/python3.11/dist-packages (from torch) (9.1.0.70)\n",
            "Requirement already satisfied: nvidia-cublas-cu12==12.4.5.8 in /usr/local/lib/python3.11/dist-packages (from torch) (12.4.5.8)\n",
            "Requirement already satisfied: nvidia-cufft-cu12==11.2.1.3 in /usr/local/lib/python3.11/dist-packages (from torch) (11.2.1.3)\n",
            "Requirement already satisfied: nvidia-curand-cu12==10.3.5.147 in /usr/local/lib/python3.11/dist-packages (from torch) (10.3.5.147)\n",
            "Requirement already satisfied: nvidia-cusolver-cu12==11.6.1.9 in /usr/local/lib/python3.11/dist-packages (from torch) (11.6.1.9)\n",
            "Requirement already satisfied: nvidia-cusparse-cu12==12.3.1.170 in /usr/local/lib/python3.11/dist-packages (from torch) (12.3.1.170)\n",
            "Requirement already satisfied: nvidia-cusparselt-cu12==0.6.2 in /usr/local/lib/python3.11/dist-packages (from torch) (0.6.2)\n",
            "Requirement already satisfied: nvidia-nccl-cu12==2.21.5 in /usr/local/lib/python3.11/dist-packages (from torch) (2.21.5)\n",
            "Requirement already satisfied: nvidia-nvtx-cu12==12.4.127 in /usr/local/lib/python3.11/dist-packages (from torch) (12.4.127)\n",
            "Requirement already satisfied: nvidia-nvjitlink-cu12==12.4.127 in /usr/local/lib/python3.11/dist-packages (from torch) (12.4.127)\n",
            "Requirement already satisfied: triton==3.2.0 in /usr/local/lib/python3.11/dist-packages (from torch) (3.2.0)\n",
            "Requirement already satisfied: sympy==1.13.1 in /usr/local/lib/python3.11/dist-packages (from torch) (1.13.1)\n",
            "Requirement already satisfied: mpmath<1.4,>=1.1.0 in /usr/local/lib/python3.11/dist-packages (from sympy==1.13.1->torch) (1.3.0)\n",
            "Requirement already satisfied: MarkupSafe>=2.0 in /usr/local/lib/python3.11/dist-packages (from jinja2->torch) (3.0.2)\n",
            "Requirement already satisfied: pygame in /usr/local/lib/python3.11/dist-packages (2.6.1)\n",
            "Requirement already satisfied: moviepy==1.0.3 in /usr/local/lib/python3.11/dist-packages (1.0.3)\n",
            "Requirement already satisfied: decorator<5.0,>=4.0.2 in /usr/local/lib/python3.11/dist-packages (from moviepy==1.0.3) (4.4.2)\n",
            "Requirement already satisfied: tqdm<5.0,>=4.11.2 in /usr/local/lib/python3.11/dist-packages (from moviepy==1.0.3) (4.67.1)\n",
            "Requirement already satisfied: requests<3.0,>=2.8.1 in /usr/local/lib/python3.11/dist-packages (from moviepy==1.0.3) (2.32.3)\n",
            "Requirement already satisfied: proglog<=1.0.0 in /usr/local/lib/python3.11/dist-packages (from moviepy==1.0.3) (0.1.11)\n",
            "Requirement already satisfied: numpy>=1.17.3 in /usr/local/lib/python3.11/dist-packages (from moviepy==1.0.3) (1.23.5)\n",
            "Requirement already satisfied: imageio<3.0,>=2.5 in /usr/local/lib/python3.11/dist-packages (from moviepy==1.0.3) (2.37.0)\n",
            "Requirement already satisfied: imageio-ffmpeg>=0.2.0 in /usr/local/lib/python3.11/dist-packages (from moviepy==1.0.3) (0.6.0)\n",
            "Requirement already satisfied: pillow>=8.3.2 in /usr/local/lib/python3.11/dist-packages (from imageio<3.0,>=2.5->moviepy==1.0.3) (11.1.0)\n",
            "Requirement already satisfied: charset-normalizer<4,>=2 in /usr/local/lib/python3.11/dist-packages (from requests<3.0,>=2.8.1->moviepy==1.0.3) (3.4.1)\n",
            "Requirement already satisfied: idna<4,>=2.5 in /usr/local/lib/python3.11/dist-packages (from requests<3.0,>=2.8.1->moviepy==1.0.3) (3.10)\n",
            "Requirement already satisfied: urllib3<3,>=1.21.1 in /usr/local/lib/python3.11/dist-packages (from requests<3.0,>=2.8.1->moviepy==1.0.3) (2.3.0)\n",
            "Requirement already satisfied: certifi>=2017.4.17 in /usr/local/lib/python3.11/dist-packages (from requests<3.0,>=2.8.1->moviepy==1.0.3) (2025.1.31)\n",
            "Requirement already satisfied: numpy==1.23.5 in /usr/local/lib/python3.11/dist-packages (1.23.5)\n",
            "Requirement already satisfied: imageio_ffmpeg in /usr/local/lib/python3.11/dist-packages (0.6.0)\n",
            "Collecting pyvirtualdisplay\n",
            "  Downloading PyVirtualDisplay-3.0-py3-none-any.whl.metadata (943 bytes)\n",
            "Downloading PyVirtualDisplay-3.0-py3-none-any.whl (15 kB)\n",
            "Installing collected packages: pyvirtualdisplay\n",
            "Successfully installed pyvirtualdisplay-3.0\n",
            "Collecting crafter\n",
            "  Downloading crafter-1.8.3.tar.gz (107 kB)\n",
            "\u001b[2K     \u001b[90m━━━━━━━━━━━━━━━━━━━━━━━━━━━━━━━━━━━━━━━\u001b[0m \u001b[32m107.6/107.6 kB\u001b[0m \u001b[31m5.3 MB/s\u001b[0m eta \u001b[36m0:00:00\u001b[0m\n",
            "\u001b[?25h  Preparing metadata (setup.py) ... \u001b[?25l\u001b[?25hdone\n",
            "Requirement already satisfied: numpy in /usr/local/lib/python3.11/dist-packages (from crafter) (1.23.5)\n",
            "Requirement already satisfied: imageio in /usr/local/lib/python3.11/dist-packages (from crafter) (2.37.0)\n",
            "Requirement already satisfied: pillow in /usr/local/lib/python3.11/dist-packages (from crafter) (11.1.0)\n",
            "Collecting opensimplex (from crafter)\n",
            "  Downloading opensimplex-0.4.5.1-py3-none-any.whl.metadata (10 kB)\n",
            "Collecting ruamel.yaml (from crafter)\n",
            "  Downloading ruamel.yaml-0.18.10-py3-none-any.whl.metadata (23 kB)\n",
            "Collecting ruamel.yaml.clib>=0.2.7 (from ruamel.yaml->crafter)\n",
            "  Downloading ruamel.yaml.clib-0.2.12-cp311-cp311-manylinux_2_17_x86_64.manylinux2014_x86_64.whl.metadata (2.7 kB)\n",
            "Downloading opensimplex-0.4.5.1-py3-none-any.whl (267 kB)\n",
            "\u001b[2K   \u001b[90m━━━━━━━━━━━━━━━━━━━━━━━━━━━━━━━━━━━━━━━━\u001b[0m \u001b[32m268.0/268.0 kB\u001b[0m \u001b[31m13.7 MB/s\u001b[0m eta \u001b[36m0:00:00\u001b[0m\n",
            "\u001b[?25hDownloading ruamel.yaml-0.18.10-py3-none-any.whl (117 kB)\n",
            "\u001b[2K   \u001b[90m━━━━━━━━━━━━━━━━━━━━━━━━━━━━━━━━━━━━━━━━\u001b[0m \u001b[32m117.7/117.7 kB\u001b[0m \u001b[31m11.2 MB/s\u001b[0m eta \u001b[36m0:00:00\u001b[0m\n",
            "\u001b[?25hDownloading ruamel.yaml.clib-0.2.12-cp311-cp311-manylinux_2_17_x86_64.manylinux2014_x86_64.whl (739 kB)\n",
            "\u001b[2K   \u001b[90m━━━━━━━━━━━━━━━━━━━━━━━━━━━━━━━━━━━━━━━━\u001b[0m \u001b[32m739.1/739.1 kB\u001b[0m \u001b[31m45.7 MB/s\u001b[0m eta \u001b[36m0:00:00\u001b[0m\n",
            "\u001b[?25hBuilding wheels for collected packages: crafter\n",
            "  Building wheel for crafter (setup.py) ... \u001b[?25l\u001b[?25hdone\n",
            "  Created wheel for crafter: filename=crafter-1.8.3-py3-none-any.whl size=143999 sha256=edef59315c0d2b0179feec4b2f32977554aeabb04dc00d5743d0ed933dafa7ec\n",
            "  Stored in directory: /root/.cache/pip/wheels/4f/a2/87/7f72eb7cbd7ece50af7d782892b585eb2e4fd13bde78b11e19\n",
            "Successfully built crafter\n",
            "Installing collected packages: ruamel.yaml.clib, opensimplex, ruamel.yaml, crafter\n",
            "Successfully installed crafter-1.8.3 opensimplex-0.4.5.1 ruamel.yaml-0.18.10 ruamel.yaml.clib-0.2.12\n",
            "Reading package lists... Done\n",
            "Building dependency tree... Done\n",
            "Reading state information... Done\n",
            "ffmpeg is already the newest version (7:4.4.2-0ubuntu0.22.04.1).\n",
            "xvfb is already the newest version (2:21.1.4-2ubuntu1.7~22.04.14).\n",
            "Suggested packages:\n",
            "  libgle3 python3-numpy\n",
            "The following NEW packages will be installed:\n",
            "  freeglut3 libglu1-mesa python3-opengl\n",
            "0 upgraded, 3 newly installed, 0 to remove and 30 not upgraded.\n",
            "Need to get 824 kB of archives.\n",
            "After this operation, 8,092 kB of additional disk space will be used.\n",
            "Get:1 http://archive.ubuntu.com/ubuntu jammy/universe amd64 freeglut3 amd64 2.8.1-6 [74.0 kB]\n",
            "Get:2 http://archive.ubuntu.com/ubuntu jammy/main amd64 libglu1-mesa amd64 9.0.2-1 [145 kB]\n",
            "Get:3 http://archive.ubuntu.com/ubuntu jammy/universe amd64 python3-opengl all 3.1.5+dfsg-1 [605 kB]\n",
            "Fetched 824 kB in 0s (6,421 kB/s)\n",
            "Selecting previously unselected package freeglut3:amd64.\n",
            "(Reading database ... 126315 files and directories currently installed.)\n",
            "Preparing to unpack .../freeglut3_2.8.1-6_amd64.deb ...\n",
            "Unpacking freeglut3:amd64 (2.8.1-6) ...\n",
            "Selecting previously unselected package libglu1-mesa:amd64.\n",
            "Preparing to unpack .../libglu1-mesa_9.0.2-1_amd64.deb ...\n",
            "Unpacking libglu1-mesa:amd64 (9.0.2-1) ...\n",
            "Selecting previously unselected package python3-opengl.\n",
            "Preparing to unpack .../python3-opengl_3.1.5+dfsg-1_all.deb ...\n",
            "Unpacking python3-opengl (3.1.5+dfsg-1) ...\n",
            "Setting up freeglut3:amd64 (2.8.1-6) ...\n",
            "Setting up libglu1-mesa:amd64 (9.0.2-1) ...\n",
            "Setting up python3-opengl (3.1.5+dfsg-1) ...\n",
            "Processing triggers for libc-bin (2.35-0ubuntu3.8) ...\n",
            "/sbin/ldconfig.real: /usr/local/lib/libur_adapter_opencl.so.0 is not a symbolic link\n",
            "\n",
            "/sbin/ldconfig.real: /usr/local/lib/libur_loader.so.0 is not a symbolic link\n",
            "\n",
            "/sbin/ldconfig.real: /usr/local/lib/libtbbmalloc.so.2 is not a symbolic link\n",
            "\n",
            "/sbin/ldconfig.real: /usr/local/lib/libtcm.so.1 is not a symbolic link\n",
            "\n",
            "/sbin/ldconfig.real: /usr/local/lib/libumf.so.0 is not a symbolic link\n",
            "\n",
            "/sbin/ldconfig.real: /usr/local/lib/libtcm_debug.so.1 is not a symbolic link\n",
            "\n",
            "/sbin/ldconfig.real: /usr/local/lib/libtbbbind.so.3 is not a symbolic link\n",
            "\n",
            "/sbin/ldconfig.real: /usr/local/lib/libtbb.so.12 is not a symbolic link\n",
            "\n",
            "/sbin/ldconfig.real: /usr/local/lib/libur_adapter_level_zero.so.0 is not a symbolic link\n",
            "\n",
            "/sbin/ldconfig.real: /usr/local/lib/libtbbbind_2_5.so.3 is not a symbolic link\n",
            "\n",
            "/sbin/ldconfig.real: /usr/local/lib/libhwloc.so.15 is not a symbolic link\n",
            "\n",
            "/sbin/ldconfig.real: /usr/local/lib/libtbbbind_2_0.so.3 is not a symbolic link\n",
            "\n",
            "/sbin/ldconfig.real: /usr/local/lib/libtbbmalloc_proxy.so.2 is not a symbolic link\n",
            "\n",
            "Archive:  dataset.zip\n",
            "   creating: dataset/\n",
            "  inflating: __MACOSX/._dataset      \n",
            "  inflating: dataset/1KxQniBkRuF1aF4WDnHNkj.npz  \n",
            "  inflating: __MACOSX/dataset/._1KxQniBkRuF1aF4WDnHNkj.npz  \n",
            "  inflating: dataset/2bKnUUeMqRfZdAX9vTMkzy.npz  \n",
            "  inflating: __MACOSX/dataset/._2bKnUUeMqRfZdAX9vTMkzy.npz  \n",
            "  inflating: dataset/2UwvmDuqDSqVPqE8WUkDTm.npz  \n",
            "  inflating: __MACOSX/dataset/._2UwvmDuqDSqVPqE8WUkDTm.npz  \n",
            "  inflating: dataset/28I3ny0KICjvwfYEF0xno1.npz  \n",
            "  inflating: __MACOSX/dataset/._28I3ny0KICjvwfYEF0xno1.npz  \n",
            "  inflating: dataset/7HqDMvvBxetl1LqIICqBRV.npz  \n",
            "  inflating: __MACOSX/dataset/._7HqDMvvBxetl1LqIICqBRV.npz  \n",
            "  inflating: dataset/46b0veuEEJX8IQY3Nxc5SS.npz  \n",
            "  inflating: __MACOSX/dataset/._46b0veuEEJX8IQY3Nxc5SS.npz  \n",
            "  inflating: dataset/4CqAtpsYQ5ixTFmdyulYMY.npz  \n",
            "  inflating: __MACOSX/dataset/._4CqAtpsYQ5ixTFmdyulYMY.npz  \n",
            "  inflating: dataset/etS8cfqTiSGK3le7u5m5F.npz  \n",
            "  inflating: __MACOSX/dataset/._etS8cfqTiSGK3le7u5m5F.npz  \n",
            "  inflating: dataset/1CKFwmfLeb5MzlgFRaIF7M.npz  \n",
            "  inflating: __MACOSX/dataset/._1CKFwmfLeb5MzlgFRaIF7M.npz  \n",
            "  inflating: dataset/4vLOmnOm7ho1yUWPkXPB3N.npz  \n",
            "  inflating: __MACOSX/dataset/._4vLOmnOm7ho1yUWPkXPB3N.npz  \n",
            "  inflating: dataset/19zpNB8jprb7AzLsfMyKN2.npz  \n",
            "  inflating: __MACOSX/dataset/._19zpNB8jprb7AzLsfMyKN2.npz  \n",
            "  inflating: dataset/3MStodaBlJa9X6A0hhdf1v.npz  \n",
            "  inflating: __MACOSX/dataset/._3MStodaBlJa9X6A0hhdf1v.npz  \n",
            "  inflating: dataset/6UXplbVi2skOmvXSMABd6k.npz  \n",
            "  inflating: __MACOSX/dataset/._6UXplbVi2skOmvXSMABd6k.npz  \n",
            "  inflating: dataset/7YbYVDfR27fhQQH8lk9e6.npz  \n",
            "  inflating: __MACOSX/dataset/._7YbYVDfR27fhQQH8lk9e6.npz  \n",
            "  inflating: dataset/5RMOFEojhmfUYyVqDnXMpu.npz  \n",
            "  inflating: __MACOSX/dataset/._5RMOFEojhmfUYyVqDnXMpu.npz  \n",
            "  inflating: dataset/1Mnp5qJ8Hseli3WNUFjMSf.npz  \n",
            "  inflating: __MACOSX/dataset/._1Mnp5qJ8Hseli3WNUFjMSf.npz  \n",
            "  inflating: dataset/5MaTXohGMMeQcUeF8bjtvY.npz  \n",
            "  inflating: __MACOSX/dataset/._5MaTXohGMMeQcUeF8bjtvY.npz  \n",
            "  inflating: dataset/33xV3ydWbuUPaXQQyr0vK1.npz  \n",
            "  inflating: __MACOSX/dataset/._33xV3ydWbuUPaXQQyr0vK1.npz  \n",
            "  inflating: dataset/21BRTwty1o61Wyr6BwNpM4.npz  \n",
            "  inflating: __MACOSX/dataset/._21BRTwty1o61Wyr6BwNpM4.npz  \n",
            "  inflating: dataset/ZsCY1ghxE13JDCHrXqizI.npz  \n",
            "  inflating: __MACOSX/dataset/._ZsCY1ghxE13JDCHrXqizI.npz  \n",
            "  inflating: dataset/31ZSu6e8NxGIeMuTL4QFIR.npz  \n",
            "  inflating: __MACOSX/dataset/._31ZSu6e8NxGIeMuTL4QFIR.npz  \n",
            "  inflating: dataset/2yMZNtKHJQzhqeGEVM1ktX.npz  \n",
            "  inflating: __MACOSX/dataset/._2yMZNtKHJQzhqeGEVM1ktX.npz  \n",
            "  inflating: dataset/6h7xkRiFy7vBante7kBBkY.npz  \n",
            "  inflating: __MACOSX/dataset/._6h7xkRiFy7vBante7kBBkY.npz  \n",
            "  inflating: dataset/3JngIuLVQJNCsAwuO9XNu1.npz  \n",
            "  inflating: __MACOSX/dataset/._3JngIuLVQJNCsAwuO9XNu1.npz  \n",
            "  inflating: dataset/FoKntz7ZQ2bjW2q2uOyoL.npz  \n",
            "  inflating: __MACOSX/dataset/._FoKntz7ZQ2bjW2q2uOyoL.npz  \n",
            "  inflating: dataset/2Ts66DVs6LbSLHI7X6Nir4.npz  \n",
            "  inflating: __MACOSX/dataset/._2Ts66DVs6LbSLHI7X6Nir4.npz  \n",
            "  inflating: dataset/5Ir1c32XIJPAvSEO5blz87.npz  \n",
            "  inflating: __MACOSX/dataset/._5Ir1c32XIJPAvSEO5blz87.npz  \n",
            "  inflating: dataset/6zNiSeLQXK3j7O58YdNabO.npz  \n",
            "  inflating: __MACOSX/dataset/._6zNiSeLQXK3j7O58YdNabO.npz  \n",
            "  inflating: dataset/57APJqyjVCPdEY0h9Hu8Gw.npz  \n",
            "  inflating: __MACOSX/dataset/._57APJqyjVCPdEY0h9Hu8Gw.npz  \n",
            "  inflating: dataset/1vL0xGKz3CZnkx13Vwz96D.npz  \n",
            "  inflating: __MACOSX/dataset/._1vL0xGKz3CZnkx13Vwz96D.npz  \n",
            "  inflating: dataset/2RcaQEaszilMcpbnJgi37b.npz  \n",
            "  inflating: __MACOSX/dataset/._2RcaQEaszilMcpbnJgi37b.npz  \n",
            "  inflating: dataset/KlYMXE2ViOuPXsoijLEPc.npz  \n",
            "  inflating: __MACOSX/dataset/._KlYMXE2ViOuPXsoijLEPc.npz  \n",
            "  inflating: dataset/4nEWpWSrE6Qdc1wGNKD5gr.npz  \n",
            "  inflating: __MACOSX/dataset/._4nEWpWSrE6Qdc1wGNKD5gr.npz  \n",
            "  inflating: dataset/6nieaEKGEAk8QimKuHCEJC.npz  \n",
            "  inflating: __MACOSX/dataset/._6nieaEKGEAk8QimKuHCEJC.npz  \n",
            "  inflating: dataset/4lyntV3vC4cKSqG5Xgh5Xe.npz  \n",
            "  inflating: __MACOSX/dataset/._4lyntV3vC4cKSqG5Xgh5Xe.npz  \n",
            "  inflating: dataset/5N4O85CVBmYh7dH5QtVtyr.npz  \n",
            "  inflating: __MACOSX/dataset/._5N4O85CVBmYh7dH5QtVtyr.npz  \n",
            "  inflating: dataset/5HNrp1LQHwM1IGhSU29SzS.npz  \n",
            "  inflating: __MACOSX/dataset/._5HNrp1LQHwM1IGhSU29SzS.npz  \n",
            "  inflating: dataset/Q8MN67pWJmJKoC9KlglgP.npz  \n",
            "  inflating: __MACOSX/dataset/._Q8MN67pWJmJKoC9KlglgP.npz  \n",
            "  inflating: dataset/6ZK1er1Yv0QxNtRv2RE3xb.npz  \n",
            "  inflating: __MACOSX/dataset/._6ZK1er1Yv0QxNtRv2RE3xb.npz  \n",
            "  inflating: dataset/LLF3cgXQMRhWWo9GVOgSz.npz  \n",
            "  inflating: __MACOSX/dataset/._LLF3cgXQMRhWWo9GVOgSz.npz  \n",
            "  inflating: dataset/6alZBPJBjvEr2YMpv6VDbP.npz  \n",
            "  inflating: __MACOSX/dataset/._6alZBPJBjvEr2YMpv6VDbP.npz  \n",
            "  inflating: dataset/569NO2jWGoZD7tSgVjMSq3.npz  \n",
            "  inflating: __MACOSX/dataset/._569NO2jWGoZD7tSgVjMSq3.npz  \n",
            "  inflating: dataset/3g44QYkaxBK40FdknCX6tn.npz  \n",
            "  inflating: __MACOSX/dataset/._3g44QYkaxBK40FdknCX6tn.npz  \n",
            "  inflating: dataset/3crqdYdljFUyzceVh3ydkJ.npz  \n",
            "  inflating: __MACOSX/dataset/._3crqdYdljFUyzceVh3ydkJ.npz  \n",
            "  inflating: dataset/6DuGYlFFzJEVDood9Lv1Qx.npz  \n",
            "  inflating: __MACOSX/dataset/._6DuGYlFFzJEVDood9Lv1Qx.npz  \n",
            "  inflating: dataset/ZLC2VsFB6sovRBHyf5t1K.npz  \n",
            "  inflating: __MACOSX/dataset/._ZLC2VsFB6sovRBHyf5t1K.npz  \n",
            "  inflating: dataset/jOOrvenDj2vyLyo2rBLR9.npz  \n",
            "  inflating: __MACOSX/dataset/._jOOrvenDj2vyLyo2rBLR9.npz  \n",
            "  inflating: dataset/Lrq9cXOVYNgyHv4jouJNU.npz  \n",
            "  inflating: __MACOSX/dataset/._Lrq9cXOVYNgyHv4jouJNU.npz  \n",
            "  inflating: dataset/1NSca6HJ4cekYVboHnhc9x.npz  \n",
            "  inflating: __MACOSX/dataset/._1NSca6HJ4cekYVboHnhc9x.npz  \n",
            "  inflating: dataset/3jckJoLyNZjiXlH5Y2nrjL.npz  \n",
            "  inflating: __MACOSX/dataset/._3jckJoLyNZjiXlH5Y2nrjL.npz  \n",
            "  inflating: dataset/2Glcxt90nEAmOsabbeEMe0.npz  \n",
            "  inflating: __MACOSX/dataset/._2Glcxt90nEAmOsabbeEMe0.npz  \n",
            "  inflating: dataset/2zEp7YvAv5wSral1FohBrr.npz  \n",
            "  inflating: __MACOSX/dataset/._2zEp7YvAv5wSral1FohBrr.npz  \n",
            "  inflating: dataset/1Y01bi8tgyBLNsDU48yzrx.npz  \n",
            "  inflating: __MACOSX/dataset/._1Y01bi8tgyBLNsDU48yzrx.npz  \n",
            "  inflating: dataset/63yAtabGIG2hSXfMRLbzdo.npz  \n",
            "  inflating: __MACOSX/dataset/._63yAtabGIG2hSXfMRLbzdo.npz  \n",
            "  inflating: dataset/27boq1vz6RQBj80SUlpi6Z.npz  \n",
            "  inflating: __MACOSX/dataset/._27boq1vz6RQBj80SUlpi6Z.npz  \n",
            "  inflating: dataset/60dzbr0Tj1g1H6lEqZqcEv.npz  \n",
            "  inflating: __MACOSX/dataset/._60dzbr0Tj1g1H6lEqZqcEv.npz  \n",
            "  inflating: dataset/6GaKyG75k4HIsWABTdssJV.npz  \n",
            "  inflating: __MACOSX/dataset/._6GaKyG75k4HIsWABTdssJV.npz  \n",
            "  inflating: dataset/63umaAP4ECcp8skl69sYOc.npz  \n",
            "  inflating: __MACOSX/dataset/._63umaAP4ECcp8skl69sYOc.npz  \n",
            "  inflating: dataset/4bKKGojgNgHSUxB4DFgOb3.npz  \n",
            "  inflating: __MACOSX/dataset/._4bKKGojgNgHSUxB4DFgOb3.npz  \n",
            "  inflating: dataset/6qtOOFXCk6bnTh4tYHkLkr.npz  \n",
            "  inflating: __MACOSX/dataset/._6qtOOFXCk6bnTh4tYHkLkr.npz  \n",
            "  inflating: dataset/3kPeKsQCQwH4criKdJninj.npz  \n",
            "  inflating: __MACOSX/dataset/._3kPeKsQCQwH4criKdJninj.npz  \n",
            "  inflating: dataset/6iDWQthVjcPH5UzeRvgId3.npz  \n",
            "  inflating: __MACOSX/dataset/._6iDWQthVjcPH5UzeRvgId3.npz  \n",
            "  inflating: dataset/5COUyA24IVtcuXDx1RrEOF.npz  \n",
            "  inflating: __MACOSX/dataset/._5COUyA24IVtcuXDx1RrEOF.npz  \n",
            "  inflating: dataset/6wZJzsBqLmlcts5OK0fjMW.npz  \n",
            "  inflating: __MACOSX/dataset/._6wZJzsBqLmlcts5OK0fjMW.npz  \n",
            "  inflating: dataset/7STz9qD2GIhDtWeBTIHoWc.npz  \n",
            "  inflating: __MACOSX/dataset/._7STz9qD2GIhDtWeBTIHoWc.npz  \n",
            "  inflating: dataset/5sYbRtkUQpfe6MIzoDUVwT.npz  \n",
            "  inflating: __MACOSX/dataset/._5sYbRtkUQpfe6MIzoDUVwT.npz  \n",
            "  inflating: dataset/6pTUP6onrMnr6NykP05qQm.npz  \n",
            "  inflating: __MACOSX/dataset/._6pTUP6onrMnr6NykP05qQm.npz  \n",
            "  inflating: dataset/xJPIZ4nOSqQYuFvj5WZ3L.npz  \n",
            "  inflating: __MACOSX/dataset/._xJPIZ4nOSqQYuFvj5WZ3L.npz  \n",
            "  inflating: dataset/bFufnk23Y571EWnongxWH.npz  \n",
            "  inflating: __MACOSX/dataset/._bFufnk23Y571EWnongxWH.npz  \n",
            "  inflating: dataset/3vuZgGvWCGu27PWb1YDDMe.npz  \n",
            "  inflating: __MACOSX/dataset/._3vuZgGvWCGu27PWb1YDDMe.npz  \n",
            "  inflating: dataset/4MqnnBs6WvoWEUIws22PiS.npz  \n",
            "  inflating: __MACOSX/dataset/._4MqnnBs6WvoWEUIws22PiS.npz  \n",
            "  inflating: dataset/4CTITTeX8yV3I2GSlEdDL8.npz  \n",
            "  inflating: __MACOSX/dataset/._4CTITTeX8yV3I2GSlEdDL8.npz  \n",
            "  inflating: dataset/1pqPIBH0mIhIce7t1aOLU9.npz  \n",
            "  inflating: __MACOSX/dataset/._1pqPIBH0mIhIce7t1aOLU9.npz  \n",
            "  inflating: dataset/6ZX6gylk9aaYXeVJlqYizo.npz  \n",
            "  inflating: __MACOSX/dataset/._6ZX6gylk9aaYXeVJlqYizo.npz  \n",
            "  inflating: dataset/2IDmoi5qh5lHKNoARRL7ra.npz  \n",
            "  inflating: __MACOSX/dataset/._2IDmoi5qh5lHKNoARRL7ra.npz  \n",
            "  inflating: dataset/2Zh8segPOTJALVQdi1jZLq.npz  \n",
            "  inflating: __MACOSX/dataset/._2Zh8segPOTJALVQdi1jZLq.npz  \n",
            "  inflating: dataset/1yd6HBA2FTjpS330uudva7.npz  \n",
            "  inflating: __MACOSX/dataset/._1yd6HBA2FTjpS330uudva7.npz  \n",
            "  inflating: dataset/3aIjTpb9xLzWVdcuoViA1D.npz  \n",
            "  inflating: __MACOSX/dataset/._3aIjTpb9xLzWVdcuoViA1D.npz  \n",
            "  inflating: dataset/3GlpdVum3uL9Ts19gNoIdS.npz  \n",
            "  inflating: __MACOSX/dataset/._3GlpdVum3uL9Ts19gNoIdS.npz  \n",
            "  inflating: dataset/7iMCHbzpwkYPbGk0f6xx9c.npz  \n",
            "  inflating: __MACOSX/dataset/._7iMCHbzpwkYPbGk0f6xx9c.npz  \n",
            "  inflating: dataset/47Vx37X1lbgP19kXLo2w1Y.npz  \n",
            "  inflating: __MACOSX/dataset/._47Vx37X1lbgP19kXLo2w1Y.npz  \n",
            "  inflating: dataset/3kWTFBJLkN2DrplRohH307.npz  \n",
            "  inflating: __MACOSX/dataset/._3kWTFBJLkN2DrplRohH307.npz  \n",
            "  inflating: dataset/4kqp532DZ3OCEl5LTT7XAt.npz  \n",
            "  inflating: __MACOSX/dataset/._4kqp532DZ3OCEl5LTT7XAt.npz  \n",
            "  inflating: dataset/4oNS28S3zAsKPzQX3PkHxv.npz  \n",
            "  inflating: __MACOSX/dataset/._4oNS28S3zAsKPzQX3PkHxv.npz  \n",
            "  inflating: dataset/UqiPEgyaEoQHjKOpj1Tf8.npz  \n",
            "  inflating: __MACOSX/dataset/._UqiPEgyaEoQHjKOpj1Tf8.npz  \n",
            "  inflating: dataset/2mrWdLWFvwIiKJq37PZKWQ.npz  \n",
            "  inflating: __MACOSX/dataset/._2mrWdLWFvwIiKJq37PZKWQ.npz  \n",
            "  inflating: dataset/6J1uRwhy7LtMpDkEtu7Amf.npz  \n",
            "  inflating: __MACOSX/dataset/._6J1uRwhy7LtMpDkEtu7Amf.npz  \n",
            "  inflating: dataset/1vzMIYj1OtMbpd90oOHLri.npz  \n",
            "  inflating: __MACOSX/dataset/._1vzMIYj1OtMbpd90oOHLri.npz  \n",
            "  inflating: dataset/57DFn4bgOHU6k8xqOz8OAf.npz  \n",
            "  inflating: __MACOSX/dataset/._57DFn4bgOHU6k8xqOz8OAf.npz  \n",
            "  inflating: dataset/1yscjJDu2qzSb3V7ZkUogC.npz  \n",
            "  inflating: __MACOSX/dataset/._1yscjJDu2qzSb3V7ZkUogC.npz  \n",
            "  inflating: dataset/5tbVBGVXvxHdAUEMoV2jWk.npz  \n",
            "  inflating: __MACOSX/dataset/._5tbVBGVXvxHdAUEMoV2jWk.npz  \n",
            "  inflating: dataset/2xnbSc94e164H6lERvDlMp.npz  \n",
            "  inflating: __MACOSX/dataset/._2xnbSc94e164H6lERvDlMp.npz  \n",
            "  inflating: dataset/3f9b4Tp5HdBbOPPxfTsz7t.npz  \n",
            "  inflating: __MACOSX/dataset/._3f9b4Tp5HdBbOPPxfTsz7t.npz  \n",
            "  inflating: dataset/1Wbmn73Bb0ITGZEiMROmJX.npz  \n",
            "  inflating: __MACOSX/dataset/._1Wbmn73Bb0ITGZEiMROmJX.npz  \n",
            "  inflating: dataset/78XwK90QkilxIHwgrqqGFD.npz  \n",
            "  inflating: __MACOSX/dataset/._78XwK90QkilxIHwgrqqGFD.npz  \n",
            "  inflating: dataset/o9x61vlB6DDVdnpG6Ptg5.npz  \n",
            "  inflating: __MACOSX/dataset/._o9x61vlB6DDVdnpG6Ptg5.npz  \n",
            "  inflating: dataset/VXlPIck4KnuISbwGJx0HK.npz  \n",
            "  inflating: __MACOSX/dataset/._VXlPIck4KnuISbwGJx0HK.npz  \n",
            "  inflating: dataset/5QfujRgUX8i7sE17HsecKf.npz  \n",
            "  inflating: __MACOSX/dataset/._5QfujRgUX8i7sE17HsecKf.npz  \n",
            "  inflating: dataset/6LX6vN6mpfVoeatk87YgDz.npz  \n",
            "  inflating: __MACOSX/dataset/._6LX6vN6mpfVoeatk87YgDz.npz  \n",
            "  inflating: dataset/72mJ967DGVGZNZpKImTlyd.npz  \n",
            "  inflating: __MACOSX/dataset/._72mJ967DGVGZNZpKImTlyd.npz  \n"
          ]
        }
      ]
    },
    {
      "cell_type": "markdown",
      "source": [
        "##Imports and Displaing Video"
      ],
      "metadata": {
        "id": "UuKCk1p0fQMz"
      }
    },
    {
      "cell_type": "code",
      "execution_count": 6,
      "metadata": {
        "id": "ksW1GiNx-d6G"
      },
      "outputs": [],
      "source": [
        "import torch\n",
        "from torch import nn\n",
        "import numpy as np\n",
        "from torch.utils.data import Dataset, DataLoader\n",
        "\n",
        "import random\n",
        "from tqdm import tqdm\n",
        "\n",
        "import gym\n",
        "import crafter\n",
        "\n",
        "import argparse\n",
        "\n",
        "import glob\n",
        "import io\n",
        "import base64\n",
        "from IPython.display import HTML\n",
        "from IPython import display as ipythondisplay\n",
        "\n",
        "import imageio"
      ]
    },
    {
      "cell_type": "code",
      "source": [
        "def show_video():\n",
        "  mp4list = glob.glob('./*.mp4')\n",
        "  if len(mp4list) > 0:\n",
        "    mp4 = mp4list[0]\n",
        "    video = io.open(mp4, 'r+b').read()\n",
        "    encoded = base64.b64encode(video)\n",
        "    ipythondisplay.display(HTML(data='''<video alt=\"test\" autoplay\n",
        "                loop controls style=\"height: 400px;\">\n",
        "                <source src=\"data:video/mp4;base64,{0}\" type=\"video/mp4\" />\n",
        "             </video>'''.format(encoded.decode('ascii'))))\n",
        "  else:\n",
        "    print(\"Could not find video\")"
      ],
      "metadata": {
        "id": "PlgHjGYwgURj"
      },
      "execution_count": 7,
      "outputs": []
    },
    {
      "cell_type": "markdown",
      "source": [
        "##Model Definition"
      ],
      "metadata": {
        "id": "ZnpD7kD6fURm"
      }
    },
    {
      "cell_type": "code",
      "source": [
        "class Agent(nn.Module):\n",
        "\n",
        "    def __init__(self, action_size, hidden_size=64, input_size=(3, 64, 64)):\n",
        "        super().__init__()\n",
        "\n",
        "        #network for extracting features from the input image of the game\n",
        "        #(try's to learn internal state of game from looking at image)\n",
        "        self.convolutional_sequence = nn.Sequential(\n",
        "            nn.Conv2d(3, 8, kernel_size=3, stride=4),\n",
        "            nn.ReLU(),\n",
        "            nn.Conv2d(8, 16, kernel_size=3, stride=2),\n",
        "            nn.ReLU(),\n",
        "            nn.Conv2d(16, 32, kernel_size=3, stride=1),\n",
        "            nn.ReLU(),\n",
        "            nn.Flatten(),\n",
        "        )\n",
        "\n",
        "        #pass dummy input through the convolutional layer to get out the input to the value and action networks\n",
        "        with torch.no_grad():\n",
        "            dummy_input = torch.zeros(1, *input_size)  # input_size = (C, H, W)\n",
        "            conv_out = self.convolutional_sequence(dummy_input)\n",
        "            flattened_size = conv_out.shape[1]\n",
        "\n",
        "\n",
        "        #network for training on predicted game state to make an action\n",
        "        self.action_network = nn.Sequential(\n",
        "            nn.Linear(flattened_size, hidden_size),\n",
        "            nn.ReLU(),\n",
        "            nn.Linear(hidden_size, action_size)\n",
        "        )\n",
        "\n",
        "        #network for training on predicted game state to create a value for a given state\n",
        "        self.value_network = nn.Sequential(\n",
        "            nn.Linear(flattened_size, hidden_size),\n",
        "            nn.ReLU(),\n",
        "            nn.Linear(hidden_size, 1),\n",
        "        )\n",
        "\n",
        "    def get_value(self, state):\n",
        "        features = self.convolutional_sequence(state)\n",
        "        return self.value_network(features)\n",
        "\n",
        "    def get_logits(self, state):\n",
        "        features = self.convolutional_sequence(state)\n",
        "        return self.action_network(features)\n",
        "\n",
        "    def get_action_dist(self, state):\n",
        "        logits = self.get_logits(state)\n",
        "        return torch.softmax(logits, dim=1)"
      ],
      "metadata": {
        "id": "rw6fvwVR-2DI"
      },
      "execution_count": 8,
      "outputs": []
    },
    {
      "cell_type": "code",
      "source": [
        "# Dataset that wraps memory for a dataloader\n",
        "class RLDataset(Dataset):\n",
        "  def __init__(self, data):\n",
        "    super().__init__()\n",
        "    self.data = []\n",
        "    for d in data:\n",
        "      self.data.append(d)\n",
        "\n",
        "  def __getitem__(self, index):\n",
        "    return self.data[index]\n",
        "\n",
        "  def __len__(self):\n",
        "    return len(self.data)"
      ],
      "metadata": {
        "id": "1ujyLx5bf1iA"
      },
      "execution_count": 9,
      "outputs": []
    },
    {
      "cell_type": "markdown",
      "source": [
        "##Preprocessing State Helper Functions"
      ],
      "metadata": {
        "id": "U5sig824gUBL"
      }
    },
    {
      "cell_type": "code",
      "source": [
        "def preprocess(state):\n",
        "  state = state.transpose(2, 0, 1)    # change the shape form (H, W, C) -> (C, H, W)\n",
        "  state = state / 255.0   # normalize the input data so that it is no longer in the range 255\n",
        "  state = torch.from_numpy(state).float().to(device)    # take the numpy input and make it a tensor\n",
        "  return state"
      ],
      "metadata": {
        "id": "7FI_JcblgY8Q"
      },
      "execution_count": 28,
      "outputs": []
    },
    {
      "cell_type": "markdown",
      "source": [
        "##Behavior Cloning Helper Functions\n"
      ],
      "metadata": {
        "id": "sUGupJwOfYlp"
      }
    },
    {
      "cell_type": "code",
      "source": [
        "#imports the data stored in the dataset folder\n",
        "def get_expert_data(device, filename='dataset'):\n",
        "  expert_episodes = glob.glob(filename + '/*.npz')\n",
        "  expert_data = []\n",
        "\n",
        "  for episode in expert_episodes:\n",
        "    episode_data = np.load(episode)\n",
        "    observations, actions = episode_data['image'], episode_data['action']\n",
        "    expert_data += list(zip(observations, actions))\n",
        "\n",
        "  return expert_data"
      ],
      "metadata": {
        "id": "1nZ3G2YOfsaq"
      },
      "execution_count": 11,
      "outputs": []
    },
    {
      "cell_type": "code",
      "source": [
        "class ExpertDataset(Dataset):\n",
        "  def __init__(self, data):\n",
        "    super().__init__()\n",
        "    self.data = []\n",
        "    for observation, state in data:\n",
        "      self.data.append((preprocess(observation), state))\n",
        "\n",
        "  def __getitem__(self, index):\n",
        "    return self.data[index]\n",
        "\n",
        "  def __len__(self):\n",
        "    return len(self.data)"
      ],
      "metadata": {
        "id": "5yhCqT4XftJV"
      },
      "execution_count": 25,
      "outputs": []
    },
    {
      "cell_type": "code",
      "source": [
        "#takes in data from expert players and has the model try and match their actions in a given state\n",
        "def behavior_clone(epochs, agent, optim, data_loader, device):\n",
        "  loop = tqdm(total=epochs, position=0, leave=False)\n",
        "  agent.train()\n",
        "\n",
        "  for epoch in range(epochs):\n",
        "    total_loss = 0\n",
        "    for state, action in data_loader:\n",
        "      action = action.to(device)\n",
        "\n",
        "      #forward pass\n",
        "      logits = agent.get_logits(state)\n",
        "\n",
        "      loss = torch.nn.functional.cross_entropy(logits, action)\n",
        "      total_loss += loss.item()\n",
        "\n",
        "      #backprop\n",
        "      optim.zero_grad()\n",
        "      loss.backward()\n",
        "      optim.step()\n",
        "\n",
        "    loop.update(1)\n",
        "    loop.set_description(\"Epochs {}, Loss: {}\".format(epoch, total_loss))"
      ],
      "metadata": {
        "id": "BFDShEokfgAJ"
      },
      "execution_count": 31,
      "outputs": []
    },
    {
      "cell_type": "markdown",
      "source": [
        "#PPO Helper Functions"
      ],
      "metadata": {
        "id": "asEPMOzLfHUz"
      }
    },
    {
      "cell_type": "code",
      "source": [
        "#calculate the return for a given episode\n",
        "def calculate_return(memory, rollout, gamma):\n",
        "  returns = []\n",
        "  R = 0\n",
        "  for state, action, action_dist, reward in reversed(rollout):\n",
        "    R = reward + gamma * R\n",
        "    returns.insert(0, (state, action, action_dist, R))\n",
        "\n",
        "  return memory + returns"
      ],
      "metadata": {
        "id": "5uSpb0sCgt39"
      },
      "execution_count": 14,
      "outputs": []
    },
    {
      "cell_type": "code",
      "source": [
        "#sample actions from the state\n",
        "@torch.no_grad()\n",
        "def get_action(agent, state):\n",
        "  state = state.unsqueeze(0)  #add batch dimension to input into the network\n",
        "  action_dist = agent.get_action_dist(state).squeeze(0)\n",
        "  action = torch.distributions.Categorical(action_dist).sample()\n",
        "  return action.item(), action_dist"
      ],
      "metadata": {
        "id": "k23PO-imgvkE"
      },
      "execution_count": 15,
      "outputs": []
    },
    {
      "cell_type": "code",
      "source": [
        "#learning loop for ppo\n",
        "def learn_ppo(optim, agent, memory_dataloader, epsilon, policy_epochs):\n",
        "    for _ in range(policy_epochs):\n",
        "        for batch in memory_dataloader:\n",
        "            state, action, action_dist, return_tensor = batch\n",
        "            action = action.to(device)\n",
        "            action_dist = action_dist.to(device)\n",
        "            return_tensor = return_tensor.float().to(device)\n",
        "\n",
        "            Vst = agent.get_value(state)\n",
        "            Ahat_t = (return_tensor - Vst).detach()\n",
        "\n",
        "            pi_prime = agent.get_action_dist(state)[torch.arange(len(action)), action]\n",
        "            pi = action_dist[torch.arange(len(action)), action]\n",
        "\n",
        "            ratio = torch.divide(pi_prime, pi)\n",
        "            clipped_ratio = torch.clamp(ratio, 1 - epsilon, 1 + epsilon)\n",
        "            policy_loss = -torch.mean(torch.min(ratio * Ahat_t, clipped_ratio * Ahat_t))\n",
        "\n",
        "            value_loss = torch.mean((return_tensor - Vst) ** 2)\n",
        "\n",
        "            loss = value_loss + policy_loss\n",
        "\n",
        "            optim.zero_grad()\n",
        "            loss.backward()\n",
        "            optim.step()"
      ],
      "metadata": {
        "id": "pzt3Z1lT_Gqf"
      },
      "execution_count": 16,
      "outputs": []
    },
    {
      "cell_type": "markdown",
      "source": [
        "##Hyper Parameters"
      ],
      "metadata": {
        "id": "fkCFB5PlgzkM"
      }
    },
    {
      "cell_type": "code",
      "source": [
        "#Behavior Cloning\n",
        "bc_batch_size = 32\n",
        "bc_epochs = 20\n",
        "\n",
        "##PPO\n",
        "epochs = 60\n",
        "gym_id = \"CrafterReward-v1\"\n",
        "lr = 1e-3\n",
        "seed = 0\n",
        "max_steps_per_episode = 1024\n",
        "num_episodes = 100\n",
        "discount_factor = 0.9\n",
        "batch_size = 512\n",
        "epsilon = 0.2\n",
        "policy_epochs = 5\n",
        "\n",
        "device = torch.device(\"cuda\" if torch.cuda.is_available() else \"cpu\")"
      ],
      "metadata": {
        "id": "5_QN27cV_hUq"
      },
      "execution_count": 110,
      "outputs": []
    },
    {
      "cell_type": "markdown",
      "source": [
        "##Training Setup"
      ],
      "metadata": {
        "id": "8Cuo4-_bhUQo"
      }
    },
    {
      "cell_type": "code",
      "source": [
        "#set up our seeds\n",
        "random.seed(seed)\n",
        "np.random.seed(seed)\n",
        "torch.random.manual_seed(seed)\n",
        "\n",
        "#set up our device\n",
        "device = torch.device(\"cuda\" if torch.cuda.is_available() else \"cpu\")\n",
        "\n",
        "#set up our environment\n",
        "#MUST BE A DISCRETE ACTION SPACE\n",
        "env = gym.make(gym_id)\n",
        "action_size = env.action_space.n\n",
        "env = crafter.Recorder(\n",
        "    env, './results',\n",
        "    save_stats=True,\n",
        "    save_video=False,\n",
        "    save_episode=False,\n",
        ")\n",
        "\n",
        "#create our agent\n",
        "agent = Agent(action_size).to(device)\n",
        "\n",
        "#init our optimizer\n",
        "adam_optim = torch.optim.Adam(agent.parameters(), lr=lr)"
      ],
      "metadata": {
        "colab": {
          "base_uri": "https://localhost:8080/"
        },
        "id": "e67Wv3K-hWww",
        "outputId": "181defc4-7019-4359-8dd4-98dc4a0109af"
      },
      "execution_count": 18,
      "outputs": [
        {
          "output_type": "stream",
          "name": "stderr",
          "text": [
            "/usr/local/lib/python3.11/dist-packages/gym/core.py:317: DeprecationWarning: \u001b[33mWARN: Initializing wrapper in old step API which returns one bool instead of two. It is recommended to set `new_step_api=True` to use new step API. This will be the default behaviour in future.\u001b[0m\n",
            "  deprecation(\n",
            "/usr/local/lib/python3.11/dist-packages/gym/wrappers/step_api_compatibility.py:39: DeprecationWarning: \u001b[33mWARN: Initializing environment in old step API which returns one bool instead of two. It is recommended to set `new_step_api=True` to use new step API. This will be the default behaviour in future.\u001b[0m\n",
            "  deprecation(\n"
          ]
        }
      ]
    },
    {
      "cell_type": "markdown",
      "source": [
        "##Behavior Cloning\n"
      ],
      "metadata": {
        "id": "DvD3QUb3hMVt"
      }
    },
    {
      "cell_type": "code",
      "source": [
        "expert_data = get_expert_data(device)\n",
        "bc_data_loader = DataLoader(ExpertDataset(expert_data), batch_size=bc_batch_size, shuffle=True)\n",
        "\n",
        "behavior_clone(bc_epochs, agent, adam_optim, bc_data_loader, device)"
      ],
      "metadata": {
        "colab": {
          "base_uri": "https://localhost:8080/"
        },
        "id": "nvWggpQQhMDN",
        "outputId": "c99b24cc-2e92-42ec-bc63-8afb43029fcf"
      },
      "execution_count": 34,
      "outputs": [
        {
          "output_type": "stream",
          "name": "stderr",
          "text": []
        }
      ]
    },
    {
      "cell_type": "markdown",
      "source": [
        "##PPO Training"
      ],
      "metadata": {
        "id": "yX02mJV1g62H"
      }
    },
    {
      "cell_type": "code",
      "source": [
        "#progress bar\n",
        "loop = tqdm(total=epochs, position=0, leave=False)\n",
        "results_ppo = []\n",
        "\n",
        "for epoch in range(epochs):\n",
        "\n",
        "    #STORAGE Variables (reset each epoch)\n",
        "    memory = []\n",
        "    rewards = []\n",
        "\n",
        "    #gather data from a number of episodes\n",
        "    for episode in range(num_episodes):\n",
        "\n",
        "        #reset the environment for the rollout\n",
        "        state = preprocess(env.reset())\n",
        "        done = False\n",
        "        rollout = []\n",
        "        cum_reward = 0 #track reward gained during the episode\n",
        "        step = 0 #track the number of steps in the episode\n",
        "\n",
        "        while not done and step < max_steps_per_episode:\n",
        "            #get an action\n",
        "            action, action_dist = get_action(agent, state)\n",
        "\n",
        "            #take a step\n",
        "            next_state, reward, done, _ = env.step(action)\n",
        "            next_state = preprocess(next_state)\n",
        "\n",
        "            #store the step\n",
        "            rollout.append((state, action, action_dist, reward))\n",
        "\n",
        "            cum_reward += reward\n",
        "            step += 1\n",
        "            state = next_state\n",
        "\n",
        "        #calculate the returns for the episode and add it to the memory\n",
        "        memory = calculate_return(memory, rollout, discount_factor)\n",
        "        rewards.append(cum_reward)\n",
        "\n",
        "        env.close()\n",
        "\n",
        "    #train on the memory for this epoch\n",
        "    # Train\n",
        "    dataset = RLDataset(memory)\n",
        "    loader = DataLoader(dataset, batch_size=batch_size, shuffle=True)\n",
        "    learn_ppo(adam_optim, agent, loader, epsilon, policy_epochs)\n",
        "\n",
        "    #update progress bar\n",
        "    results_ppo.extend(rewards)\n",
        "    loop.update(1)\n",
        "    loop.set_description(\"Epochs {}, Rewards: {}\".format(epoch, cum_reward))"
      ],
      "metadata": {
        "colab": {
          "base_uri": "https://localhost:8080/"
        },
        "id": "jk9Iypro_Mo5",
        "outputId": "0319ce93-3774-41a0-ac2c-00c50a220110"
      },
      "execution_count": 111,
      "outputs": [
        {
          "output_type": "stream",
          "name": "stderr",
          "text": [
            "Epochs 59, Rewards: 8.099999999999998: 100%|██████████| 60/60 [1:20:18<00:00, 82.88s/it]"
          ]
        }
      ]
    },
    {
      "cell_type": "markdown",
      "source": [
        "##Display Last Iteration"
      ],
      "metadata": {
        "id": "St8l7jNShGgV"
      }
    },
    {
      "cell_type": "code",
      "source": [
        "#perform one last episode and record it\n",
        "env = gym.make('CrafterReward-v1')  # Or CrafterNoReward-v1\n",
        "env = crafter.Recorder(\n",
        "    env, './results',\n",
        "    save_stats=True,\n",
        "    save_video=False,\n",
        "    save_episode=False,\n",
        ")\n",
        "\n",
        "done = False\n",
        "frames = []\n",
        "state = env.reset()\n",
        "frames.append(state)\n",
        "state = preprocess(state)\n",
        "cum_reward = 0\n",
        "\n",
        "while not done:\n",
        "    #get an action\n",
        "    action, action_dist = get_action(agent, state)\n",
        "\n",
        "    #take a step\n",
        "    next_state, reward, done, _ = env.step(action)\n",
        "    frames.append(next_state)\n",
        "    next_state = preprocess(next_state)\n",
        "\n",
        "    cum_reward += reward\n",
        "    state = next_state\n",
        "\n",
        "env.close()\n",
        "\n",
        "print(\"Reward for Final Episode:\", cum_reward)\n",
        "\n",
        "imageio.mimsave('./final_run.mp4', frames, fps=15)\n",
        "\n",
        "show_video()"
      ],
      "metadata": {
        "colab": {
          "base_uri": "https://localhost:8080/",
          "height": 438
        },
        "id": "qZHsPBVzfdUT",
        "outputId": "1e66b79e-97b2-42c2-e6c4-fe62d375c758"
      },
      "execution_count": 123,
      "outputs": [
        {
          "output_type": "stream",
          "name": "stdout",
          "text": [
            "Reward for Final Episode: 10.100000000000003\n"
          ]
        },
        {
          "output_type": "display_data",
          "data": {
            "text/plain": [
              "<IPython.core.display.HTML object>"
            ],
            "text/html": [
              "<video alt=\"test\" autoplay\n",
              "                loop controls style=\"height: 400px;\">\n",
              "                <source src=\"data:video/mp4;base64,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\" type=\"video/mp4\" />\n",
              "             </video>"
            ]
          },
          "metadata": {}
        }
      ]
    }
  ]
}